{
  "nbformat": 4,
  "nbformat_minor": 0,
  "metadata": {
    "colab": {
      "provenance": []
    },
    "kernelspec": {
      "name": "python3",
      "display_name": "Python 3"
    },
    "language_info": {
      "name": "python"
    }
  },
  "cells": [
    {
      "cell_type": "markdown",
      "source": [
        "#1.  What is Object-Oriented Programming (OOP)?\n",
        "\n",
        "->  Object-Oriented Programming (OOP) is a programming paradigm based on the concept of objects, which contain data (attributes) and code (methods). It focuses on encapsulation, inheritance, polymorphism, and abstraction to build reusable and modular code."
      ],
      "metadata": {
        "id": "gwT53ekTEjkA"
      }
    },
    {
      "cell_type": "markdown",
      "source": [
        "#2. What is a class in OOP?\n",
        "\n",
        "->  A class is a blueprint or template for creating objects in Object-Oriented Programming. It defines the attributes (data members) and methods (functions) that the created objects will have."
      ],
      "metadata": {
        "id": "7uWi_ZM5Et-J"
      }
    },
    {
      "cell_type": "markdown",
      "source": [
        "#3. What is an object in OOP?\n",
        "\n",
        "-> An object is an instance of a class in Object-Oriented Programming. It represents a real-world entity with attributes (data) and behaviors (methods) defined by its class."
      ],
      "metadata": {
        "id": "9h6gyp6LFHFz"
      }
    },
    {
      "cell_type": "markdown",
      "source": [
        "#4. What is the difference between abstraction and encapsulation?\n",
        "\n",
        "-> 1. Abstraction hides the implementation details, while Encapsulation hides the data.\n",
        "\n",
        "2. Abstraction focuses on what an object does; Encapsulation focuses on how it is done securely.\n",
        "\n",
        "3. Abstraction is achieved using abstract classes and interfaces; Encapsulation is achieved using access modifiers (like private, public).\n",
        "\n",
        "4. Abstraction reduces complexity; Encapsulation increases security"
      ],
      "metadata": {
        "id": "u-8sMtXQFRI9"
      }
    },
    {
      "cell_type": "markdown",
      "source": [
        "#5. What are dunder methods in Python?\n",
        "\n",
        "-> Dunder methods (short for “double underscore” methods) are special methods in Python that start and end with double underscores, like __init__, __str__, __len__, etc.\n",
        "\n",
        "They are used to define how objects behave with built-in functions and operators."
      ],
      "metadata": {
        "id": "Ma_UnLd4Fy_5"
      }
    },
    {
      "cell_type": "markdown",
      "source": [
        "#6. Explain the concept of inheritance in OOP.\n",
        "\n",
        "-> Inheritance is a key feature of Object-Oriented Programming that allows a class (child/derived class) to inherit properties and behaviors (methods and attributes) from another class (parent/base class).\n",
        "\n",
        "It promotes code reusability and supports the concept of \"is-a\" relationship."
      ],
      "metadata": {
        "id": "bEYs9QM5GAI7"
      }
    },
    {
      "cell_type": "markdown",
      "source": [
        "#7. What is polymorphism in OOP?\n",
        "\n",
        "-> Polymorphism means \"many forms\". In Object-Oriented Programming, it allows different classes to define methods with the same name, but with different behaviors.\n",
        "\n",
        "It enables one interface to be used for different data types or objects, improving flexibility and scalability.\n"
      ],
      "metadata": {
        "id": "kSlkcVIHGOAa"
      }
    },
    {
      "cell_type": "markdown",
      "source": [
        "#8. How is encapsulation achieved in Python?\n",
        "\n",
        "-> Encapsulation is the concept of hiding the internal details of a class and only exposing necessary parts through controlled interfaces. In Python, it is achieved by defining private attributes using a double underscore (__) prefix. These private members cannot be accessed directly from outside the class, ensuring data protection. Access to these variables is provided through public methods, commonly known as getters and setters. This approach helps in maintaining data integrity and restricting unauthorized access, making the code more secure and manageable."
      ],
      "metadata": {
        "id": "jNaB53eiGcMJ"
      }
    },
    {
      "cell_type": "markdown",
      "source": [
        "#9. What is a constructor in Python?\n",
        "\n",
        "-> A constructor in Python is a special method called __init__ that is automatically called when a new object of a class is created. It is used to initialize the object's attributes with values.\n"
      ],
      "metadata": {
        "id": "QWSuyhbNGu7l"
      }
    },
    {
      "cell_type": "markdown",
      "source": [
        "#10. What are class and static methods in Python?\n",
        "\n",
        "-> Class methods are methods that take the class itself (cls) as the first parameter and can access or modify class state. They are defined using the @classmethod decorator.\n",
        "\n",
        "Static methods do not take the instance (self) or class (cls) as parameters. They behave like regular functions but belong to the class’s namespace. They are defined using the @staticmethod decorator.\n",
        "\n",
        "Both are used for different purposes but are called on the class itself rather than instances."
      ],
      "metadata": {
        "id": "63XIYE9BG6ur"
      }
    },
    {
      "cell_type": "markdown",
      "source": [
        "#11. What is method overloading in Python?\n",
        "\n",
        "-> Method overloading is the ability to define multiple methods with the same name but different parameters in the same class. However, Python does not support method overloading directly; the latest method defined overrides the previous ones. Instead, Python uses default arguments or variable-length arguments to achieve similar behavior."
      ],
      "metadata": {
        "id": "z0S-pqesHKBC"
      }
    },
    {
      "cell_type": "markdown",
      "source": [
        "#12. What is method overriding in OOP?\n",
        "\n",
        "-> Method overriding occurs when a child class provides its own version of a method that is already defined in its parent class. This allows the child class to modify or extend the behavior of the inherited method. It supports runtime polymorphism and enables dynamic method behavior based on the object's actual class."
      ],
      "metadata": {
        "id": "wSj6SaWnHTzz"
      }
    },
    {
      "cell_type": "markdown",
      "source": [
        "#13. What is a property decorator in Python?\n",
        "\n",
        "-> The @property decorator is used to define a method in a class that can be accessed like an attribute. It allows controlled access to private attributes by creating getter methods without needing to call them explicitly. This helps in encapsulation and makes the code cleaner and more readable."
      ],
      "metadata": {
        "id": "voxFSuSXHe8k"
      }
    },
    {
      "cell_type": "markdown",
      "source": [
        "#14. Why is polymorphism important in OOP?\n",
        "\n",
        "-> Polymorphism allows objects of different classes to be treated through a common interface, enabling flexible and reusable code. It simplifies code maintenance and enhances extensibility by allowing methods to behave differently based on the object’s class without changing the interface."
      ],
      "metadata": {
        "id": "RNJAf6sQHpX2"
      }
    },
    {
      "cell_type": "markdown",
      "source": [
        "#15.  What is an abstract class in Python?\n",
        "\n",
        "->An abstract class is a class that cannot be instantiated on its own and is meant to be a base class for other classes. It can contain one or more abstract methods—methods declared but not implemented—that must be overridden by subclasses. Abstract classes are created using the abc module and help define a common interface for related classes."
      ],
      "metadata": {
        "id": "dDaGkLoGH1MX"
      }
    },
    {
      "cell_type": "markdown",
      "source": [
        "#16. What are the advantages of OOP?\n",
        "\n",
        "-> Advantages of OOP:\n",
        "\n",
        "Code Reusability: Through inheritance, existing code can be reused, reducing duplication and effort.\n",
        "\n",
        "Modularity: Code is organized into classes and objects, making it easier to manage and debug.\n",
        "\n",
        "Encapsulation: Data and methods are bundled together, protecting data from unauthorized access.\n",
        "\n",
        "Flexibility and Maintainability: Polymorphism and abstraction allow easy modification and extension of code without affecting existing functionality."
      ],
      "metadata": {
        "id": "Ac_qlV-FIAjD"
      }
    },
    {
      "cell_type": "markdown",
      "source": [
        "#17. What is the difference between a class variable and an instance variable?\n",
        "\n",
        "->Difference Between Class Variable and Instance Variable:\n",
        "\n",
        "Class Variable: Shared by all instances of a class; there is only one copy, and changes affect all objects.\n",
        "\n",
        "Instance Variable: Unique to each object; each instance has its own copy, allowing individual data for each object."
      ],
      "metadata": {
        "id": "MYozusnOIPLw"
      }
    },
    {
      "cell_type": "markdown",
      "source": [
        "#18. What is multiple inheritance in Python?\n",
        "\n",
        "-> Multiple inheritance is a feature where a class can inherit attributes and methods from more than one parent class. This allows a child class to combine behaviors and properties from multiple classes, promoting code reuse and flexibility."
      ],
      "metadata": {
        "id": "fiziFBm9IrQH"
      }
    },
    {
      "cell_type": "markdown",
      "source": [
        "#19. Explain the purpose of ‘’__str__’ and ‘__repr__’ ‘ methods in Python.\n",
        "\n",
        "-> Purpose of __str__ and __repr__ methods in Python:\n",
        "\n",
        "__str__ defines the informal, readable string representation of an object, meant for end-users. It’s used by the print() function.\n",
        "\n",
        "__repr__ defines the official string representation of an object, meant for developers, and should ideally be a valid Python expression to recreate the object.\n",
        "\n",
        "Both help in displaying objects as strings but serve different audiences and purposes."
      ],
      "metadata": {
        "id": "m5cxA-jhI3SM"
      }
    },
    {
      "cell_type": "markdown",
      "source": [
        "#20. What is the significance of the ‘super()’ function in Python?\n",
        "\n",
        "-> The super() function is used to call methods from a parent class inside a child class. It helps in accessing and extending the functionality of the parent class, especially in inheritance, allowing for clean and maintainable code without explicitly naming the parent class.\n"
      ],
      "metadata": {
        "id": "iIlXwd-EJR9x"
      }
    },
    {
      "cell_type": "markdown",
      "source": [
        "#21. What is the significance of the __del__ method in Python?\n",
        "\n",
        "-> Significance of the __del__ method in Python:\n",
        "The __del__ method is a destructor that is automatically called when an object is about to be destroyed or garbage collected. It is used to perform cleanup actions, like releasing resources or closing files, before the object is removed from memory."
      ],
      "metadata": {
        "id": "hGtyNz8ZJes2"
      }
    },
    {
      "cell_type": "markdown",
      "source": [
        "#22. What is the difference between @staticmethod and @classmethod in Python?\n",
        "\n",
        "-> Difference Between @staticmethod and @classmethod in Python:\n",
        "\n",
        "@staticmethod: Defines a method that does not access the instance (self) or the class (cls). It behaves like a regular function inside the class namespace.\n",
        "\n",
        "@classmethod: Defines a method that takes the class (cls) as the first argument, allowing it to access or modify class state. It can be called on the class itself or its instances.\n"
      ],
      "metadata": {
        "id": "W1zm4_CJJr64"
      }
    },
    {
      "cell_type": "markdown",
      "source": [
        "#23.  How does polymorphism work in Python with inheritance?\n",
        "\n",
        "-> Polymorphism in Python allows a child class to override a method defined in its parent class, enabling different classes to provide their own implementation of the same method. When a method is called on an object, Python determines which version to execute based on the actual object's class at runtime, allowing the same method call to behave differently for different objects."
      ],
      "metadata": {
        "id": "eqOET30MKC7h"
      }
    },
    {
      "cell_type": "markdown",
      "source": [
        "#24. What is method chaining in Python OOP?\n",
        "\n",
        "-> Method chaining is a technique where multiple methods are called in a single line, one after another, on the same object. Each method returns the object itself (self), allowing the next method to be called directly on it. This leads to more concise and readable code.\n"
      ],
      "metadata": {
        "id": "SVtdYgWRKOB1"
      }
    },
    {
      "cell_type": "markdown",
      "source": [
        "#25.  What is the purpose of the __call__ method in Python?\n",
        "\n",
        "-> The __call__ method allows an instance of a class to be called like a function. When defined, it lets you use the object with parentheses (), enabling objects to behave like callable functions."
      ],
      "metadata": {
        "id": "nXIz8xcoKWrQ"
      }
    },
    {
      "cell_type": "markdown",
      "source": [
        "# PRACTICAL QUESTIONS"
      ],
      "metadata": {
        "id": "Eszoe4nlKkGO"
      }
    },
    {
      "cell_type": "code",
      "source": [
        "#1. Create a parent class Animal with a method speak() that prints a generic message. Create a child class Dog that overrides the speak() method to print \"Bark!\".\n",
        "\n",
        "class Animal:\n",
        "    def speak(self):\n",
        "        print(\"This animal makes a sound.\")\n",
        "\n",
        "class Dog(Animal):\n",
        "    def speak(self):\n",
        "        print(\"Bark!\")\n"
      ],
      "metadata": {
        "id": "_QnLJWNpKqL3"
      },
      "execution_count": 22,
      "outputs": []
    },
    {
      "cell_type": "code",
      "source": [
        "#2. Write a program to create an abstract class Shape with a method area(). Derive classes Circle and Rectangle from it and implement the area() method in both.\n",
        "\n",
        "from abc import ABC, abstractmethod\n",
        "import math\n",
        "\n",
        "class Shape(ABC):\n",
        "    @abstractmethod\n",
        "    def area(self):\n",
        "        pass\n",
        "\n",
        "class Circle(Shape):\n",
        "    def __init__(self, radius):\n",
        "        self.radius = radius\n",
        "\n",
        "    def area(self):\n",
        "        return math.pi * self.radius ** 2\n",
        "\n",
        "class Rectangle(Shape):\n",
        "    def __init__(self, length, width):\n",
        "        self.length = length\n",
        "        self.width = width\n",
        "\n",
        "    def area(self):\n",
        "        return self.length * self.width\n",
        "\n",
        "# Example usage:\n",
        "c = Circle(5)\n",
        "r = Rectangle(4, 6)\n",
        "\n",
        "print(\"Circle area:\", c.area())\n",
        "print(\"Rectangle area:\", r.area())\n"
      ],
      "metadata": {
        "colab": {
          "base_uri": "https://localhost:8080/"
        },
        "id": "vLddCsZAK7Yh",
        "outputId": "d12f4303-c0ee-4485-c0f4-179a4fe19aa7"
      },
      "execution_count": 5,
      "outputs": [
        {
          "output_type": "stream",
          "name": "stdout",
          "text": [
            "Circle area: 78.53981633974483\n",
            "Rectangle area: 24\n"
          ]
        }
      ]
    },
    {
      "cell_type": "code",
      "source": [
        "#3. Implement a multi-level inheritance scenario where a class Vehicle has an attribute type. Derive a class Car and further derive a class ElectricCar that adds a battery attribute.\n",
        "\n",
        "class Vehicle:\n",
        "    def __init__(self, vehicle_type):\n",
        "        self.type = vehicle_type\n",
        "\n",
        "class Car(Vehicle):\n",
        "    def __init__(self, vehicle_type, brand):\n",
        "        super().__init__(vehicle_type)\n",
        "        self.brand = brand\n",
        "\n",
        "class ElectricCar(Car):\n",
        "    def __init__(self, vehicle_type, brand, battery_capacity):\n",
        "        super().__init__(vehicle_type, brand)\n",
        "        self.battery = battery_capacity\n",
        "\n",
        "# Example usage:\n",
        "ecar = ElectricCar(\"Four-wheeler\", \"Tesla\", \"100 kWh\")\n",
        "print(\"Type:\", ecar.type)\n",
        "print(\"Brand:\", ecar.brand)\n",
        "print(\"Battery:\", ecar.battery)\n"
      ],
      "metadata": {
        "colab": {
          "base_uri": "https://localhost:8080/"
        },
        "id": "kZRvI0fZLHG_",
        "outputId": "0fd9e7ee-4c7a-4e7b-f607-5a501362fe70"
      },
      "execution_count": 6,
      "outputs": [
        {
          "output_type": "stream",
          "name": "stdout",
          "text": [
            "Type: Four-wheeler\n",
            "Brand: Tesla\n",
            "Battery: 100 kWh\n"
          ]
        }
      ]
    },
    {
      "cell_type": "code",
      "source": [
        "#4. Demonstrate polymorphism by creating a base class Bird with a method fly(). Create two derived classes Sparrow and Penguin that override the fly() method.\n",
        "\n",
        "class Bird:\n",
        "    def fly(self):\n",
        "        print(\"Bird is flying\")\n",
        "\n",
        "class Sparrow(Bird):\n",
        "    def fly(self):\n",
        "        print(\"Sparrow flies high\")\n",
        "\n",
        "class Penguin(Bird):\n",
        "    def fly(self):\n",
        "        print(\"Penguins can't fly\")\n",
        "\n",
        "# Using polymorphism\n",
        "birds = [Sparrow(), Penguin()]\n",
        "\n",
        "for bird in birds:\n",
        "    bird.fly()\n",
        "\n"
      ],
      "metadata": {
        "colab": {
          "base_uri": "https://localhost:8080/"
        },
        "id": "Zc1WzvNCLT0E",
        "outputId": "7144824f-eb09-4590-ac9a-e73874fccb3d"
      },
      "execution_count": 7,
      "outputs": [
        {
          "output_type": "stream",
          "name": "stdout",
          "text": [
            "Sparrow flies high\n",
            "Penguins can't fly\n"
          ]
        }
      ]
    },
    {
      "cell_type": "code",
      "source": [
        "#5. Write a program to demonstrate encapsulation by creating a class BankAccount with private attributes balance and methods to deposit, withdraw, and check balance\n",
        "\n",
        "class BankAccount:\n",
        "    def __init__(self, initial_balance=0):\n",
        "        self.__balance = initial_balance  # private attribute\n",
        "\n",
        "    def deposit(self, amount):\n",
        "        if amount > 0:\n",
        "            self.__balance += amount\n",
        "            print(f\"Deposited: {amount}\")\n",
        "        else:\n",
        "            print(\"Invalid deposit amount\")\n",
        "\n",
        "    def withdraw(self, amount):\n",
        "        if 0 < amount <= self.__balance:\n",
        "            self.__balance -= amount\n",
        "            print(f\"Withdrew: {amount}\")\n",
        "        else:\n",
        "            print(\"Insufficient balance or invalid amount\")\n",
        "\n",
        "    def get_balance(self):\n",
        "        return self.__balance\n",
        "\n",
        "# Example usage:\n",
        "account = BankAccount(1000)\n",
        "account.deposit(500)\n",
        "account.withdraw(300)\n",
        "print(\"Balance:\", account.get_balance())\n"
      ],
      "metadata": {
        "colab": {
          "base_uri": "https://localhost:8080/"
        },
        "id": "7jLlR0azN7Gk",
        "outputId": "5f49e1ff-acdb-448b-d4c0-1791a535a052"
      },
      "execution_count": 8,
      "outputs": [
        {
          "output_type": "stream",
          "name": "stdout",
          "text": [
            "Deposited: 500\n",
            "Withdrew: 300\n",
            "Balance: 1200\n"
          ]
        }
      ]
    },
    {
      "cell_type": "code",
      "source": [
        "#6. Demonstrate runtime polymorphism using a method play() in a base class Instrument. Derive classes Guitar and Piano that implement their own version of play().\n",
        "\n",
        "\n",
        "class Instrument:\n",
        "    def play(self):\n",
        "        print(\"Playing an instrument\")\n",
        "\n",
        "class Guitar(Instrument):\n",
        "    def play(self):\n",
        "        print(\"Playing the guitar\")\n",
        "\n",
        "class Piano(Instrument):\n",
        "    def play(self):\n",
        "        print(\"Playing the piano\")\n",
        "\n",
        "# Runtime polymorphism in action\n",
        "instruments = [Guitar(), Piano()]\n",
        "\n",
        "for instrument in instruments:\n",
        "    instrument.play()\n"
      ],
      "metadata": {
        "colab": {
          "base_uri": "https://localhost:8080/"
        },
        "id": "2eztZ12eOSrK",
        "outputId": "b23c8b62-5596-44b9-e78d-edf874e16a85"
      },
      "execution_count": 9,
      "outputs": [
        {
          "output_type": "stream",
          "name": "stdout",
          "text": [
            "Playing the guitar\n",
            "Playing the piano\n"
          ]
        }
      ]
    },
    {
      "cell_type": "code",
      "source": [
        "#7.  Create a class MathOperations with a class method add_numbers() to add two numbers and a static method subtract_numbers() to subtract two numbers.\n",
        "\n",
        "class MathOperations:\n",
        "    @classmethod\n",
        "    def add_numbers(cls, a, b):\n",
        "        return a + b\n",
        "\n",
        "    @staticmethod\n",
        "    def subtract_numbers(a, b):\n",
        "        return a - b\n",
        "\n",
        "# Example usage:\n",
        "print(\"Addition:\", MathOperations.add_numbers(10, 5))\n",
        "print(\"Subtraction:\", MathOperations.subtract_numbers(10, 5))\n"
      ],
      "metadata": {
        "colab": {
          "base_uri": "https://localhost:8080/"
        },
        "id": "aWvkGQyGOfwV",
        "outputId": "bee2e77d-29e2-4162-a53e-a138aab6c744"
      },
      "execution_count": 10,
      "outputs": [
        {
          "output_type": "stream",
          "name": "stdout",
          "text": [
            "Addition: 15\n",
            "Subtraction: 5\n"
          ]
        }
      ]
    },
    {
      "cell_type": "code",
      "source": [
        "#8. Implement a class Person with a class method to count the total number of persons created.\n",
        "\n",
        "class Person:\n",
        "    count = 0  # class variable to keep track\n",
        "\n",
        "    def __init__(self, name):\n",
        "        self.name = name\n",
        "        Person.count += 1\n",
        "\n",
        "    @classmethod\n",
        "    def total_persons(cls):\n",
        "        return cls.count\n",
        "\n",
        "# Example usage:\n",
        "p1 = Person(\"Alice\")\n",
        "p2 = Person(\"Bob\")\n",
        "p3 = Person(\"Charlie\")\n",
        "\n",
        "print(\"Total persons created:\", Person.total_persons())\n"
      ],
      "metadata": {
        "colab": {
          "base_uri": "https://localhost:8080/"
        },
        "id": "AqnDRejGOwfj",
        "outputId": "80980e4d-9cdb-4797-90db-c675daa0599b"
      },
      "execution_count": 11,
      "outputs": [
        {
          "output_type": "stream",
          "name": "stdout",
          "text": [
            "Total persons created: 3\n"
          ]
        }
      ]
    },
    {
      "cell_type": "code",
      "source": [
        "#9. Write a class Fraction with attributes numerator and denominator. Override the str method to display the fraction as \"numerator/denominator\".\n",
        "\n",
        "class Fraction:\n",
        "    def __init__(self, numerator, denominator):\n",
        "        self.numerator = numerator\n",
        "        self.denominator = denominator\n",
        "\n",
        "    def __str__(self):\n",
        "        return f\"{self.numerator}/{self.denominator}\"\n",
        "\n",
        "# Example usage:\n",
        "f = Fraction(3, 4)\n",
        "print(f)  # Output: 3/4\n"
      ],
      "metadata": {
        "colab": {
          "base_uri": "https://localhost:8080/"
        },
        "id": "EhfgUjkwPAFY",
        "outputId": "5338a04d-ab5f-4d26-b6fa-226c06a5ab71"
      },
      "execution_count": 12,
      "outputs": [
        {
          "output_type": "stream",
          "name": "stdout",
          "text": [
            "3/4\n"
          ]
        }
      ]
    },
    {
      "cell_type": "code",
      "source": [
        "#10. Demonstrate operator overloading by creating a class Vector and overriding the add method to add two vectors.\n",
        "\n",
        "class Vector:\n",
        "    def __init__(self, x, y):\n",
        "        self.x = x\n",
        "        self.y = y\n",
        "\n",
        "    def __add__(self, other):\n",
        "        return Vector(self.x + other.x, self.y + other.y)\n",
        "\n",
        "    def __str__(self):\n",
        "        return f\"({self.x}, {self.y})\"\n",
        "\n",
        "# Example usage:\n",
        "v1 = Vector(2, 3)\n",
        "v2 = Vector(4, 5)\n",
        "result = v1 + v2\n",
        "print(result)  # Output: (6, 8)\n"
      ],
      "metadata": {
        "colab": {
          "base_uri": "https://localhost:8080/"
        },
        "id": "bxhsWhBXPKiN",
        "outputId": "cc2e40a8-5be7-485a-c677-7142c02b7091"
      },
      "execution_count": 13,
      "outputs": [
        {
          "output_type": "stream",
          "name": "stdout",
          "text": [
            "(6, 8)\n"
          ]
        }
      ]
    },
    {
      "cell_type": "code",
      "source": [
        "#11. Create a class Person with attributes name and age. Add a method greet() that prints \"Hello, my name is {name} and I am {age} years old.\"\n",
        "\n",
        "class Person:\n",
        "    def __init__(self, name, age):\n",
        "        self.name = name\n",
        "        self.age = age\n",
        "\n",
        "    def greet(self):\n",
        "        print(f\"Hello, my name is {self.name} and I am {self.age} years old.\")\n",
        "\n",
        "# Example usage:\n",
        "p = Person(\"Alice\", 30)\n",
        "p.greet()\n"
      ],
      "metadata": {
        "colab": {
          "base_uri": "https://localhost:8080/"
        },
        "id": "y2opz3vAPVuX",
        "outputId": "3f92c410-30b0-4d08-b6cf-a075c45d6f14"
      },
      "execution_count": 14,
      "outputs": [
        {
          "output_type": "stream",
          "name": "stdout",
          "text": [
            "Hello, my name is Alice and I am 30 years old.\n"
          ]
        }
      ]
    },
    {
      "cell_type": "code",
      "source": [
        "#12. Implement a class Student with attributes name and grades. Create a method average_grade() to compute the average of the grades.\n",
        "\n",
        "class Student:\n",
        "    def __init__(self, name, grades):\n",
        "        self.name = name\n",
        "        self.grades = grades  # grades is expected to be a list of numbers\n",
        "\n",
        "    def average_grade(self):\n",
        "        if not self.grades:\n",
        "            return 0\n",
        "        return sum(self.grades) / len(self.grades)\n",
        "\n",
        "# Example usage:\n",
        "s = Student(\"John\", [85, 90, 78, 92])\n",
        "print(f\"{s.name}'s average grade: {s.average_grade()}\")\n"
      ],
      "metadata": {
        "colab": {
          "base_uri": "https://localhost:8080/"
        },
        "id": "OBv_IBNjPphm",
        "outputId": "5e0c3ea3-b614-4696-c974-e6e4f0ee83f7"
      },
      "execution_count": 15,
      "outputs": [
        {
          "output_type": "stream",
          "name": "stdout",
          "text": [
            "John's average grade: 86.25\n"
          ]
        }
      ]
    },
    {
      "cell_type": "code",
      "source": [
        "#13. Create a class Rectangle with methods set_dimensions() to set the dimensions and area() to calculate the area.\n",
        "\n",
        "class Rectangle:\n",
        "    def __init__(self):\n",
        "        self.length = 0\n",
        "        self.width = 0\n",
        "\n",
        "    def set_dimensions(self, length, width):\n",
        "        self.length = length\n",
        "        self.width = width\n",
        "\n",
        "    def area(self):\n",
        "        return self.length * self.width\n",
        "\n",
        "# Example usage:\n",
        "rect = Rectangle()\n",
        "rect.set_dimensions(5, 3)\n",
        "print(\"Area:\", rect.area())\n"
      ],
      "metadata": {
        "colab": {
          "base_uri": "https://localhost:8080/"
        },
        "id": "IRj3mZnyP4iA",
        "outputId": "82882b9b-8b1a-4b4a-ef34-2975abc45ced"
      },
      "execution_count": 16,
      "outputs": [
        {
          "output_type": "stream",
          "name": "stdout",
          "text": [
            "Area: 15\n"
          ]
        }
      ]
    },
    {
      "cell_type": "code",
      "source": [
        "#14. Create a class Employee with a method calculate_salary() that computes the salary based on hours worked and hourly rate. Create a derived class Manager that adds a bonus to the salary.\n",
        "\n",
        "class Employee:\n",
        "    def __init__(self, hours_worked, hourly_rate):\n",
        "        self.hours_worked = hours_worked\n",
        "        self.hourly_rate = hourly_rate\n",
        "\n",
        "    def calculate_salary(self):\n",
        "        return self.hours_worked * self.hourly_rate\n",
        "\n",
        "class Manager(Employee):\n",
        "    def __init__(self, hours_worked, hourly_rate, bonus):\n",
        "        super().__init__(hours_worked, hourly_rate)\n",
        "        self.bonus = bonus\n",
        "\n",
        "    def calculate_salary(self):\n",
        "        base_salary = super().calculate_salary()\n",
        "        return base_salary + self.bonus\n",
        "\n",
        "# Example usage:\n",
        "emp = Employee(40, 20)\n",
        "mgr = Manager(40, 20, 500)\n",
        "\n",
        "print(\"Employee salary:\", emp.calculate_salary())\n",
        "print(\"Manager salary:\", mgr.calculate_salary())\n"
      ],
      "metadata": {
        "colab": {
          "base_uri": "https://localhost:8080/"
        },
        "id": "eX8sf8jZQGFn",
        "outputId": "e17c050b-3ded-4420-ba67-0f8cf49c57dd"
      },
      "execution_count": 17,
      "outputs": [
        {
          "output_type": "stream",
          "name": "stdout",
          "text": [
            "Employee salary: 800\n",
            "Manager salary: 1300\n"
          ]
        }
      ]
    },
    {
      "cell_type": "code",
      "source": [
        "#15. Create a class Product with attributes name, price, and quantity. Implement a method total_price() that calculates the total price of the product.\n",
        "\n",
        "class Product:\n",
        "    def __init__(self, name, price, quantity):\n",
        "        self.name = name\n",
        "        self.price = price\n",
        "        self.quantity = quantity\n",
        "\n",
        "    def total_price(self):\n",
        "        return self.price * self.quantity\n",
        "\n",
        "# Example usage:\n",
        "p = Product(\"Laptop\", 800, 3)\n",
        "print(f\"Total price for {p.name}: {p.total_price()}\")\n"
      ],
      "metadata": {
        "colab": {
          "base_uri": "https://localhost:8080/"
        },
        "id": "Cqj_NhVGQY8p",
        "outputId": "e3c00e2e-fb37-44e7-e8e8-91ab5453a11f"
      },
      "execution_count": 18,
      "outputs": [
        {
          "output_type": "stream",
          "name": "stdout",
          "text": [
            "Total price for Laptop: 2400\n"
          ]
        }
      ]
    },
    {
      "cell_type": "code",
      "source": [
        "#16. Create a class Animal with an abstract method sound(). Create two derived classes Cow and Sheep that implement the sound() method.\n",
        "\n",
        "from abc import ABC, abstractmethod\n",
        "\n",
        "class Animal(ABC):\n",
        "    @abstractmethod\n",
        "    def sound(self):\n",
        "        pass\n",
        "\n",
        "class Cow(Animal):\n",
        "    def sound(self):\n",
        "        print(\"Moo\")\n",
        "\n",
        "class Sheep(Animal):\n",
        "    def sound(self):\n",
        "        print(\"Baa\")\n",
        "\n",
        "# Example usage:\n",
        "cow = Cow()\n",
        "sheep = Sheep()\n",
        "\n",
        "cow.sound()\n",
        "sheep.sound()\n"
      ],
      "metadata": {
        "colab": {
          "base_uri": "https://localhost:8080/"
        },
        "id": "pET4s5GEQlwV",
        "outputId": "efc90c21-f3aa-4485-cc9e-8174f3bbe0c6"
      },
      "execution_count": 19,
      "outputs": [
        {
          "output_type": "stream",
          "name": "stdout",
          "text": [
            "Moo\n",
            "Baa\n"
          ]
        }
      ]
    },
    {
      "cell_type": "code",
      "source": [
        "#17.  Create a class Book with attributes title, author, and year_published. Add a method get_book_info() that returns a formatted string with the book's details.\n",
        "\n",
        "class Book:\n",
        "    def __init__(self, title, author, year_published):\n",
        "        self.title = title\n",
        "        self.author = author\n",
        "        self.year_published = year_published\n",
        "\n",
        "    def get_book_info(self):\n",
        "        return f\"'{self.title}' by {self.author}, published in {self.year_published}\"\n",
        "\n",
        "# Example usage:\n",
        "book = Book(\"1984\", \"George Orwell\", 1949)\n",
        "print(book.get_book_info())\n"
      ],
      "metadata": {
        "colab": {
          "base_uri": "https://localhost:8080/"
        },
        "id": "UTD8e8LvQxqd",
        "outputId": "6fb64c3b-b868-4028-fd32-706509571080"
      },
      "execution_count": 20,
      "outputs": [
        {
          "output_type": "stream",
          "name": "stdout",
          "text": [
            "'1984' by George Orwell, published in 1949\n"
          ]
        }
      ]
    },
    {
      "cell_type": "code",
      "source": [
        "#18.  Create a class House with attributes address and price. Create a derived class Mansion that adds an attribute number_of_rooms\n",
        "\n",
        "class House:\n",
        "    def __init__(self, address, price):\n",
        "        self.address = address\n",
        "        self.price = price\n",
        "\n",
        "class Mansion(House):\n",
        "    def __init__(self, address, price, number_of_rooms):\n",
        "        super().__init__(address, price)\n",
        "        self.number_of_rooms = number_of_rooms\n",
        "\n",
        "# Example usage:\n",
        "mansion = Mansion(\"123 Luxury St\", 1_000_000, 10)\n",
        "print(f\"Address: {mansion.address}\")\n",
        "print(f\"Price: ${mansion.price}\")\n",
        "print(f\"Rooms: {mansion.number_of_rooms}\")\n"
      ],
      "metadata": {
        "colab": {
          "base_uri": "https://localhost:8080/"
        },
        "id": "107Kd1enQ_mS",
        "outputId": "aa0372ec-a62f-450a-d30e-538bfebaf198"
      },
      "execution_count": 21,
      "outputs": [
        {
          "output_type": "stream",
          "name": "stdout",
          "text": [
            "Address: 123 Luxury St\n",
            "Price: $1000000\n",
            "Rooms: 10\n"
          ]
        }
      ]
    }
  ]
}